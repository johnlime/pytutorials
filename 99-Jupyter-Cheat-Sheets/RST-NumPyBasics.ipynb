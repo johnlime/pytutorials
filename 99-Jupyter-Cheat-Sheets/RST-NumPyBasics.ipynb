{
 "cells": [
  {
   "cell_type": "markdown",
   "metadata": {},
   "source": [
    "# NumPy Cheat Notebook\n",
    "\n",
    "<div style=\"text-align: right\"> \n",
    "C.Bilsing, M. Pritzkoleit, J. Winkler, 04'2019 \n",
    "<br>\n",
    "Institute Of Control Theory\n",
    "<br>\n",
    "TU Dresden\n",
    "</div>\n",
    "\n",
    "This notebook provides an overview about frequently used NumPy functionalities especially useful for control purposes.\n",
    "\n",
    "The documentation of the latest NumPy release can be found at : https://docs.scipy.org/doc/numpy/ <br>\n",
    "For Matlab users the 'Numpy for Matlab Users' guide could be interesting: https://docs.scipy.org/doc/numpy/user/numpy-for-matlab-users.html\n",
    "\n",
    "For keyboard shortcuts drastically improving the user experience in Jupyter notebook see the help menu or press the littel keyboard icon in the command symbol line at the top of the notebook. The most important ones are:\n",
    "\n",
    "``RET`` --> Enter a cell, i.e. start edit mode (green border around cell)\n",
    "\n",
    "``ESC`` --> Leave a cell, i.e. start command mode (blue border around cell)\n",
    "\n",
    "**In edit mode:**\n",
    "\n",
    "``STRG + RET`` --> Execute current cell\n",
    "\n",
    "``SHIFT + RET`` --> Execute current cell and jump to the next cell\n",
    "\n",
    "``ALT + RET`` --> Execute current cell, open a new cell below and jump to the new cell\n",
    "\n",
    "``STRG + SHIFT + -`` --> Split current cell at cursor position\n",
    "\n",
    "**In command mode:**\n",
    "\n",
    "``A`` --> Create new cell above\n",
    "\n",
    "``B`` --> Create new cell below\n",
    "\n",
    "``D`` ``D`` --> Delete current cell\n",
    "\n",
    "``C`` --> Copy cell to clipboard\n",
    "\n",
    "``X`` --> Cut cell to clipboard\n",
    "\n",
    "``V`` --> Insert cell from clipboard below currently selected cell\n",
    "\n",
    "``SHIFT + M`` Merge current cell with cell below\n",
    "\n",
    "``M`` Convert cell to a markdown cell used for text and comments only\n",
    "\n",
    "``Y`` Change cell to a code cell used for computations (the default)"
   ]
  },
  {
   "cell_type": "markdown",
   "metadata": {},
   "source": [
    "---\n",
    "\n",
    "## Contents\n",
    "### Basics\n",
    "* [How to import NumPy?](#import)\n",
    "* [How to print inside a script?](#print)\n",
    "\n",
    "### Definitions\n",
    "* [How to define a numpy array from a list?](#def-array)\n",
    "* [How to define a numpy array filled with ones / zeros?](#def-array-one-zeros)\n",
    "* [How to define a numpy array with evenly spaced elements (number of elements is given)?](#def-array-linspace)\n",
    "* [How to define a numpy array with evenly spaced elements(step size is given)?](#def-array-arange)\n",
    "* [How to define a numpy array with evenly spaced elements in a log scale(number of elements is given)?](#def-array-logspace)\n",
    "\n",
    "### Operations\n",
    "* [How to index numpy arrays?](#index-array)\n",
    "* [How to slice numpy arrays?](#slice-array)\n",
    "* [How to get the shape of an array?](#shape-array)\n",
    "* [How to reshape an array?](#reshape-array)\n",
    "* [How to resize an array?](#reshape-array)\n",
    "\n",
    "### Computation\n",
    "* [How to stack numpy arrays?](#stack-array)\n",
    "* [What are common pitfalls regarding array shapes?](#pitfalls-array)\n",
    "* [How to multiply two vectors with the scalar product?](#scalar-product)\n",
    "* [How to multiply two vectors with the vector product?](#vector-product)\n",
    "* [How to multiply numpy arrays using the matrix multiplication?](#matrix-product)\n",
    "* [How to compute the inverse of an array?](#inverse-array)\n",
    "* [How to solve a system of linear equations?](#solve-sole) \n",
    "* [How to compute the eigenvalues and eigenvectors of a matrix?](#eigenvalues-array)\n",
    "* [How to compute the rank of a matrix?](#rank-matrix)\n",
    "* [How to compute the matrix exponential?](#matrix-exponential)\n",
    "* [How to differentiate numerically?](#differentiate-array)\n",
    "* [How to integrate numerically?](#integrate-array)\n",
    "* [How to find zeros of a function numerically?](#find-zeros)\n",
    "\n",
    "### Common Tasks In Control Theory \n",
    "* [How to calculate the controllability matrix?](#calc-controllability)\n",
    "* [How to compute the observability matrix?](#observability-matrix)\n",
    "* [How to discretize a continuous state space model numerically?](#rank-matrix)\n",
    "\n",
    "\n",
    "\n",
    "### Export\n",
    "* [How to save arrays to a binary file / How to load arrays from a binary file?](#save-array)\n",
    "* [How to save arrays to a text file / How to load arrays from a text file?](#savetxt-array)"
   ]
  },
  {
   "cell_type": "markdown",
   "metadata": {},
   "source": [
    "---\n",
    "\n",
    "## Basics"
   ]
  },
  {
   "cell_type": "markdown",
   "metadata": {},
   "source": [
    "### How to import NumPy? <a class=\"anchor\" id=\"import\"></a>"
   ]
  },
  {
   "cell_type": "code",
   "execution_count": 6,
   "metadata": {},
   "outputs": [],
   "source": [
    "import numpy as np"
   ]
  },
  {
   "cell_type": "markdown",
   "metadata": {},
   "source": [
    "### How to print inside a script? <a class=\"anchor\" id=\"print\"></a>"
   ]
  },
  {
   "cell_type": "code",
   "execution_count": 7,
   "metadata": {
    "scrolled": false
   },
   "outputs": [
    {
     "data": {
      "text/markdown": [
       "This is __markdown__ text."
      ],
      "text/plain": [
       "<IPython.core.display.Markdown object>"
      ]
     },
     "metadata": {},
     "output_type": "display_data"
    },
    {
     "data": {
      "text/markdown": [
       "This is a LaTex formula: $a^2 + b^2 = c^2$"
      ],
      "text/plain": [
       "<IPython.core.display.Markdown object>"
      ]
     },
     "metadata": {},
     "output_type": "display_data"
    },
    {
     "data": {
      "text/plain": [
       "array([1., 1., 1.])"
      ]
     },
     "metadata": {},
     "output_type": "display_data"
    }
   ],
   "source": [
    "from IPython.display import display, Markdown\n",
    "display(Markdown(\"This is __markdown__ text.\"))\n",
    "display(Markdown(\"This is a LaTex formula: $a^2 + b^2 = c^2$\"))\n",
    "display(np.ones(3))"
   ]
  },
  {
   "cell_type": "markdown",
   "metadata": {},
   "source": [
    "---\n",
    "\n",
    "## Definitions"
   ]
  },
  {
   "cell_type": "markdown",
   "metadata": {},
   "source": [
    "### How to define a numpy array from a list? <a class=\"anchor\" id=\"def-array\"></a>"
   ]
  },
  {
   "cell_type": "code",
   "execution_count": 8,
   "metadata": {},
   "outputs": [
    {
     "data": {
      "text/plain": [
       "array([1, 2, 3])"
      ]
     },
     "execution_count": 8,
     "metadata": {},
     "output_type": "execute_result"
    }
   ],
   "source": [
    "arr = np.array([1, 2, 3])\n",
    "arr"
   ]
  },
  {
   "cell_type": "code",
   "execution_count": 9,
   "metadata": {
    "scrolled": false
   },
   "outputs": [
    {
     "data": {
      "text/plain": [
       "array([[1, 2, 3],\n",
       "       [4, 5, 6],\n",
       "       [7, 8, 9]])"
      ]
     },
     "execution_count": 9,
     "metadata": {},
     "output_type": "execute_result"
    }
   ],
   "source": [
    "arr = np.array([[1, 2, 3],\n",
    "                [4, 5, 6],\n",
    "                [7, 8, 9]])\n",
    "arr"
   ]
  },
  {
   "cell_type": "markdown",
   "metadata": {},
   "source": [
    "More Details: https://docs.scipy.org/doc/numpy/user/basics.creation.html"
   ]
  },
  {
   "cell_type": "markdown",
   "metadata": {},
   "source": [
    "### How to define a numpy array filled with ones / zeros? <a class=\"anchor\" id=\"def-array-one-zeros\"></a>"
   ]
  },
  {
   "cell_type": "code",
   "execution_count": 10,
   "metadata": {},
   "outputs": [
    {
     "data": {
      "text/plain": [
       "array([[0., 0., 0.],\n",
       "       [0., 0., 0.],\n",
       "       [0., 0., 0.]])"
      ]
     },
     "execution_count": 10,
     "metadata": {},
     "output_type": "execute_result"
    }
   ],
   "source": [
    "arr1 = np.zeros((3, 3))\n",
    "arr1"
   ]
  },
  {
   "cell_type": "code",
   "execution_count": 11,
   "metadata": {},
   "outputs": [
    {
     "data": {
      "text/plain": [
       "array([[1., 1., 1.],\n",
       "       [1., 1., 1.],\n",
       "       [1., 1., 1.]])"
      ]
     },
     "execution_count": 11,
     "metadata": {},
     "output_type": "execute_result"
    }
   ],
   "source": [
    "arr2 = np.ones((3,3))\n",
    "arr2"
   ]
  },
  {
   "cell_type": "markdown",
   "metadata": {},
   "source": [
    "### How to define a numpy array with evenly spaced elements (number of elements is given)? <a class=\"anchor\" id=\"def-array-linspace\"></a>"
   ]
  },
  {
   "cell_type": "code",
   "execution_count": 12,
   "metadata": {},
   "outputs": [
    {
     "data": {
      "text/plain": [
       "array([ 0. ,  2.5,  5. ,  7.5, 10. ])"
      ]
     },
     "execution_count": 12,
     "metadata": {},
     "output_type": "execute_result"
    }
   ],
   "source": [
    "# start = 0, end = 10, number of elements = 5\n",
    "arr = np.linspace(0, 10, 5)\n",
    "arr"
   ]
  },
  {
   "cell_type": "code",
   "execution_count": 13,
   "metadata": {},
   "outputs": [
    {
     "data": {
      "text/markdown": [
       "step size is 2.5"
      ],
      "text/plain": [
       "<IPython.core.display.Markdown object>"
      ]
     },
     "metadata": {},
     "output_type": "display_data"
    },
    {
     "data": {
      "text/plain": [
       "array([ 0. ,  2.5,  5. ,  7.5, 10. ])"
      ]
     },
     "execution_count": 13,
     "metadata": {},
     "output_type": "execute_result"
    }
   ],
   "source": [
    "arr, step_size = np.linspace(0, 10, 5, retstep=True)\n",
    "display(Markdown(\"step size is \" + str(step_size)))\n",
    "arr"
   ]
  },
  {
   "cell_type": "markdown",
   "metadata": {},
   "source": [
    "### How to define a numpy array with evenly spaced elements(step size is given)? <a class=\"anchor\" id=\"def-array-arange\"></a>"
   ]
  },
  {
   "cell_type": "code",
   "execution_count": 14,
   "metadata": {},
   "outputs": [
    {
     "data": {
      "text/plain": [
       "array([0, 2, 4, 6, 8])"
      ]
     },
     "execution_count": 14,
     "metadata": {},
     "output_type": "execute_result"
    }
   ],
   "source": [
    "# start = 0, end = 10, step size = 2\n",
    "arr = np.arange(0, 10, 2)\n",
    "arr"
   ]
  },
  {
   "cell_type": "markdown",
   "metadata": {},
   "source": [
    "**Note:** When using non-integer step sizes, the result can be inconsistent. In this case, `np.linspace()` is often a better choice"
   ]
  },
  {
   "cell_type": "markdown",
   "metadata": {},
   "source": [
    "### How to define a numpy array with evenly spaced elements in a log scale(number of elements is given)? <a class=\"anchor\" id=\"def-array-logspace\"></a>"
   ]
  },
  {
   "cell_type": "code",
   "execution_count": 15,
   "metadata": {},
   "outputs": [
    {
     "data": {
      "text/plain": [
       "array([  1.        ,   3.16227766,  10.        ,  31.6227766 ,\n",
       "       100.        ])"
      ]
     },
     "execution_count": 15,
     "metadata": {},
     "output_type": "execute_result"
    }
   ],
   "source": [
    "# start = 10^0, end = 10^2, number of elements = 5\n",
    "arr = np.logspace(0, 2, 5)\n",
    "arr"
   ]
  },
  {
   "cell_type": "code",
   "execution_count": 16,
   "metadata": {},
   "outputs": [
    {
     "data": {
      "text/plain": [
       "array([  1.,   4.,  16.,  64., 256.])"
      ]
     },
     "execution_count": 16,
     "metadata": {},
     "output_type": "execute_result"
    }
   ],
   "source": [
    "# start = 2^0, end = 2^8, number of elements = 5\n",
    "arr = np.logspace(0, 8, 5, base=2)\n",
    "arr"
   ]
  },
  {
   "cell_type": "markdown",
   "metadata": {},
   "source": [
    "### How to index numpy arrays? <a class=\"anchor\" id=\"index-array\"></a>"
   ]
  },
  {
   "cell_type": "code",
   "execution_count": 17,
   "metadata": {},
   "outputs": [
    {
     "data": {
      "text/plain": [
       "2"
      ]
     },
     "metadata": {},
     "output_type": "display_data"
    },
    {
     "data": {
      "text/plain": [
       "2"
      ]
     },
     "execution_count": 17,
     "metadata": {},
     "output_type": "execute_result"
    }
   ],
   "source": [
    "arr = np.array([[1, 2, 3],\n",
    "                [4, 5, 6],\n",
    "                [7, 8, 9]])\n",
    "# numpy indexing starts in contrast to Matlab at 0 \n",
    "display(arr[0][1])\n",
    "# numpy also supports indexing with comma as a separator which saves time at writing \n",
    "arr[0,1]"
   ]
  },
  {
   "cell_type": "markdown",
   "metadata": {},
   "source": [
    "### How to slice numpy arrays? <a class=\"anchor\" id=\"slice-array\"></a>"
   ]
  },
  {
   "cell_type": "code",
   "execution_count": 18,
   "metadata": {},
   "outputs": [
    {
     "data": {
      "text/plain": [
       "array([ 2,  6, 10])"
      ]
     },
     "metadata": {},
     "output_type": "display_data"
    },
    {
     "data": {
      "text/plain": [
       "array([ 9, 10, 11, 12])"
      ]
     },
     "execution_count": 18,
     "metadata": {},
     "output_type": "execute_result"
    }
   ],
   "source": [
    "arr = np.array([[1, 2, 3, 4],\n",
    "                [5, 6, 7, 8],\n",
    "                [9, 10, 11, 12]])\n",
    "# second column\n",
    "display(arr[:, 1])\n",
    "# third row\n",
    "arr[2, :]"
   ]
  },
  {
   "cell_type": "markdown",
   "metadata": {},
   "source": [
    "### How to get the shape of an array? <a class=\"anchor\" id=\"shape-array\"></a>"
   ]
  },
  {
   "cell_type": "code",
   "execution_count": 19,
   "metadata": {
    "scrolled": true
   },
   "outputs": [
    {
     "data": {
      "text/plain": [
       "(2, 2)"
      ]
     },
     "execution_count": 19,
     "metadata": {},
     "output_type": "execute_result"
    }
   ],
   "source": [
    "# get the shape of an array as tuple\n",
    "arr = np.array([[1, 2], [3, 4]])\n",
    "arr.shape"
   ]
  },
  {
   "cell_type": "markdown",
   "metadata": {},
   "source": [
    "### How to reshape an array? <a class=\"anchor\" id=\"reshape-array\"></a>\n",
    "**Note:** When using the function `np.reshape()` the original data is not copied, instead only a new view is returned. This saves time, but the total size of the data cannot be changed."
   ]
  },
  {
   "cell_type": "code",
   "execution_count": 20,
   "metadata": {},
   "outputs": [
    {
     "data": {
      "text/plain": [
       "array([[1, 2, 3],\n",
       "       [4, 5, 6],\n",
       "       [7, 8, 9]])"
      ]
     },
     "execution_count": 20,
     "metadata": {},
     "output_type": "execute_result"
    }
   ],
   "source": [
    "a = np.array([1, 2, 3, 4, 5, 6, 7, 8, 9])\n",
    "b = np.reshape(a, (3, 3))\n",
    "b"
   ]
  },
  {
   "cell_type": "code",
   "execution_count": 21,
   "metadata": {},
   "outputs": [
    {
     "data": {
      "text/plain": [
       "array([1, 2, 3, 4, 0, 6, 7, 8, 9])"
      ]
     },
     "execution_count": 21,
     "metadata": {},
     "output_type": "execute_result"
    }
   ],
   "source": [
    "b[1][1] = 0\n",
    "# because of b and a point to the same data, changing b changes a as well\n",
    "a"
   ]
  },
  {
   "cell_type": "markdown",
   "metadata": {},
   "source": [
    "### How to resize an array? <a class=\"anchor\" id=\"reshape-array\"></a>\n",
    "**Note:** When using the function `np.resize()` the original data is copied to a new location. This makes it possible to change the total size of the data, but it takes more time than `np.reshape()`."
   ]
  },
  {
   "cell_type": "code",
   "execution_count": 22,
   "metadata": {
    "scrolled": true
   },
   "outputs": [
    {
     "data": {
      "text/plain": [
       "array([[1, 2, 3],\n",
       "       [4, 5, 6],\n",
       "       [7, 8, 9]])"
      ]
     },
     "execution_count": 22,
     "metadata": {},
     "output_type": "execute_result"
    }
   ],
   "source": [
    "a = np.array([1, 2, 3, 4, 5, 6, 7, 8, 9])\n",
    "b = np.resize(a, (3, 3))\n",
    "b"
   ]
  },
  {
   "cell_type": "code",
   "execution_count": 23,
   "metadata": {},
   "outputs": [
    {
     "data": {
      "text/plain": [
       "array([1, 2, 3, 4, 5, 6, 7, 8, 9])"
      ]
     },
     "execution_count": 23,
     "metadata": {},
     "output_type": "execute_result"
    }
   ],
   "source": [
    "b[1][1] = 0\n",
    "# because of b and a DON'T point to the same data, changing b doesn't change a \n",
    "a"
   ]
  },
  {
   "cell_type": "markdown",
   "metadata": {},
   "source": [
    "### How to stack numpy arrays? <a class=\"anchor\" id=\"stack-array\"></a>"
   ]
  },
  {
   "cell_type": "code",
   "execution_count": 24,
   "metadata": {},
   "outputs": [
    {
     "data": {
      "text/plain": [
       "array([[1, 2, 3],\n",
       "       [4, 5, 6],\n",
       "       [7, 8, 9]])"
      ]
     },
     "metadata": {},
     "output_type": "display_data"
    },
    {
     "data": {
      "text/plain": [
       "array([1, 2, 3, 4, 5, 6, 7, 8, 9])"
      ]
     },
     "execution_count": 24,
     "metadata": {},
     "output_type": "execute_result"
    }
   ],
   "source": [
    "arr1 = np.array([1, 2, 3])\n",
    "arr2 = np.array([4, 5, 6])\n",
    "arr3 = np.array([7, 8, 9])\n",
    "# vertical stacking of 1-dimensional arrays\n",
    "y = np.vstack((arr1, arr2, arr3))\n",
    "display(y)\n",
    "# horizontal stacking of 1-dimensional arrays\n",
    "y = np.hstack((arr1, arr2, arr3))\n",
    "y\n",
    "\n",
    "# for stacking 1d/2d to 3d see np.dstack()"
   ]
  },
  {
   "cell_type": "markdown",
   "metadata": {},
   "source": [
    "### What are common pitfalls regarding array shapes? <a class=\"anchor\" id=\"pitfalls-array\"></a>\n",
    "#### First Example - Trying to concatenate 2-d and 1-d arrays"
   ]
  },
  {
   "cell_type": "code",
   "execution_count": 25,
   "metadata": {
    "scrolled": true
   },
   "outputs": [
    {
     "data": {
      "text/plain": [
       "array([[1],\n",
       "       [2],\n",
       "       [3]])"
      ]
     },
     "metadata": {},
     "output_type": "display_data"
    },
    {
     "data": {
      "text/plain": [
       "(3, 1)"
      ]
     },
     "metadata": {},
     "output_type": "display_data"
    },
    {
     "data": {
      "text/plain": [
       "array([4, 5, 6])"
      ]
     },
     "metadata": {},
     "output_type": "display_data"
    },
    {
     "data": {
      "text/plain": [
       "(3,)"
      ]
     },
     "metadata": {},
     "output_type": "display_data"
    },
    {
     "data": {
      "text/plain": [
       "array([[1, 2],\n",
       "       [3, 4],\n",
       "       [5, 6]])"
      ]
     },
     "metadata": {},
     "output_type": "display_data"
    },
    {
     "data": {
      "text/plain": [
       "array([[1, 2, 1],\n",
       "       [3, 4, 2],\n",
       "       [5, 6, 3]])"
      ]
     },
     "metadata": {},
     "output_type": "display_data"
    },
    {
     "data": {
      "text/plain": [
       "array([[1, 2, 4],\n",
       "       [3, 4, 5],\n",
       "       [5, 6, 6]])"
      ]
     },
     "execution_count": 25,
     "metadata": {},
     "output_type": "execute_result"
    }
   ],
   "source": [
    "a = np.array([[1], [2], [3]])\n",
    "display(a)\n",
    "display(a.shape)\n",
    "b = np.array([4, 5, 6])\n",
    "display(b)\n",
    "display(b.shape)\n",
    "# a is a 2-dimensional array, b is a 1-dimensional array! \n",
    "\n",
    "c = np.array([[1, 2], [3, 4], [5, 6]])\n",
    "display(c)\n",
    "\n",
    "# concatenating c with a works as expected\n",
    "y = np.concatenate((c, a), axis=1)\n",
    "display(y)\n",
    "# in order to concatenate c with b, we have to change the shape of b before!\n",
    "y = np.concatenate((c, b.reshape((3, 1))), axis=1)\n",
    "y"
   ]
  },
  {
   "cell_type": "markdown",
   "metadata": {},
   "source": [
    "#### Second Example: Transposing a 1-d array and expecting it to be 2-d"
   ]
  },
  {
   "cell_type": "code",
   "execution_count": 26,
   "metadata": {
    "scrolled": true
   },
   "outputs": [
    {
     "data": {
      "text/plain": [
       "array([1, 2, 3])"
      ]
     },
     "metadata": {},
     "output_type": "display_data"
    },
    {
     "data": {
      "text/plain": [
       "(3,)"
      ]
     },
     "metadata": {},
     "output_type": "display_data"
    },
    {
     "data": {
      "text/markdown": [
       "__Doing it the wrong way:__"
      ],
      "text/plain": [
       "<IPython.core.display.Markdown object>"
      ]
     },
     "metadata": {},
     "output_type": "display_data"
    },
    {
     "data": {
      "text/plain": [
       "array([1, 2, 3])"
      ]
     },
     "metadata": {},
     "output_type": "display_data"
    },
    {
     "data": {
      "text/plain": [
       "(3,)"
      ]
     },
     "metadata": {},
     "output_type": "display_data"
    },
    {
     "data": {
      "text/markdown": [
       "__Doing it the right way:__"
      ],
      "text/plain": [
       "<IPython.core.display.Markdown object>"
      ]
     },
     "metadata": {},
     "output_type": "display_data"
    },
    {
     "data": {
      "text/plain": [
       "array([[1, 2, 3]])"
      ]
     },
     "metadata": {},
     "output_type": "display_data"
    },
    {
     "data": {
      "text/plain": [
       "array([[1],\n",
       "       [2],\n",
       "       [3]])"
      ]
     },
     "metadata": {},
     "output_type": "display_data"
    },
    {
     "data": {
      "text/plain": [
       "array([[1],\n",
       "       [2],\n",
       "       [3]])"
      ]
     },
     "metadata": {},
     "output_type": "display_data"
    }
   ],
   "source": [
    "arr = np.array([1,2,3])\n",
    "display(arr)\n",
    "display(arr.shape)\n",
    "\n",
    "display(Markdown(\"__Doing it the wrong way:__\"))\n",
    "y = np.transpose(arr)\n",
    "display(y)\n",
    "display(y.shape)\n",
    "\n",
    "display(Markdown(\"__Doing it the right way:__\"))\n",
    "arr2d_row_vector = arr[np.newaxis]\n",
    "arr2d_column_vector = arr[:, np.newaxis]\n",
    "display(arr2d_row_vector)\n",
    "display(arr2d_column_vector)\n",
    "# transposing the row vector results in the column vector\n",
    "y = np.transpose(arr2d_row_vector)\n",
    "display(y)"
   ]
  },
  {
   "cell_type": "markdown",
   "metadata": {},
   "source": [
    "See here for more information about how to handle dimensional differences: https://docs.scipy.org/doc/numpy-1.13.0/user/basics.broadcasting.html"
   ]
  },
  {
   "cell_type": "markdown",
   "metadata": {},
   "source": [
    "### How to multiply two vectors with the scalar product? <a class=\"anchor\" id=\"scalar-product\"></a>"
   ]
  },
  {
   "cell_type": "code",
   "execution_count": 27,
   "metadata": {},
   "outputs": [
    {
     "data": {
      "text/plain": [
       "18"
      ]
     },
     "execution_count": 27,
     "metadata": {},
     "output_type": "execute_result"
    }
   ],
   "source": [
    "a = np.array([1, 2, 3])\n",
    "b = np.array([3, 3, 3])\n",
    "# since python 3.5, the @-operator can be used for calculating the scalar product of two 1D-arrays\n",
    "# if you use an earlier version of python, you can use the np.dot() function\n",
    "# 3 + 2 * 3 + 3 * 3\n",
    "a @ b"
   ]
  },
  {
   "cell_type": "markdown",
   "metadata": {},
   "source": [
    "**Note:** When using the @-operator, python calls internally the [np.matmul()](https://docs.scipy.org/doc/numpy/reference/generated/numpy.matmul.html) function (except for numpy was not imported correctly). The semantic of it is completely described here: https://www.python.org/dev/peps/pep-0465/#semantics"
   ]
  },
  {
   "cell_type": "markdown",
   "metadata": {},
   "source": [
    "### How to multiply two vectors with the vector product? <a class=\"anchor\" id=\"vector-product\"></a>"
   ]
  },
  {
   "cell_type": "code",
   "execution_count": 28,
   "metadata": {},
   "outputs": [
    {
     "data": {
      "text/plain": [
       "array([1, 0, 0])"
      ]
     },
     "execution_count": 28,
     "metadata": {},
     "output_type": "execute_result"
    }
   ],
   "source": [
    "a = np.array([0, 1, 0])\n",
    "b = np.array([0, 0, 1])\n",
    "np.cross(a, b)"
   ]
  },
  {
   "cell_type": "markdown",
   "metadata": {},
   "source": [
    "### How to multiply numpy arrays using the matrix multiplication? <a class=\"anchor\" id=\"matrix-product\"></a>"
   ]
  },
  {
   "cell_type": "code",
   "execution_count": 29,
   "metadata": {
    "scrolled": true
   },
   "outputs": [
    {
     "data": {
      "text/plain": [
       "array([[2., 0., 0.],\n",
       "       [0., 2., 0.],\n",
       "       [0., 0., 2.]])"
      ]
     },
     "metadata": {},
     "output_type": "display_data"
    },
    {
     "data": {
      "text/plain": [
       "array([[1, 4],\n",
       "       [2, 5],\n",
       "       [3, 6]])"
      ]
     },
     "metadata": {},
     "output_type": "display_data"
    },
    {
     "data": {
      "text/plain": [
       "array([[ 2.,  8.],\n",
       "       [ 4., 10.],\n",
       "       [ 6., 12.]])"
      ]
     },
     "execution_count": 29,
     "metadata": {},
     "output_type": "execute_result"
    }
   ],
   "source": [
    "# identity matrix element-wise mulitplied by 2\n",
    "my_matrix = np.eye(3) * 2\n",
    "display(my_matrix)\n",
    "x = np.array([[1, 4], [2, 5], [3, 6]])\n",
    "display(x)\n",
    "# since python 3.5 the @-operator can be used for matrix multiplication\n",
    "my_matrix @ x\n",
    "# if you use an earlier version of python, you can use the np.dot() function\n",
    "# np.dot(A, x)"
   ]
  },
  {
   "cell_type": "markdown",
   "metadata": {},
   "source": [
    "**Note:** When using the @-operator, python calls internally the [np.matmul()](https://docs.scipy.org/doc/numpy/reference/generated/numpy.matmul.html) function (except for numpy was not imported correctly). The semantic of it is completely described here: https://www.python.org/dev/peps/pep-0465/#semantics"
   ]
  },
  {
   "cell_type": "markdown",
   "metadata": {},
   "source": [
    "### How to compute the inverse of an array? <a class=\"anchor\" id=\"inverse-array\"></a>"
   ]
  },
  {
   "cell_type": "code",
   "execution_count": 30,
   "metadata": {
    "scrolled": true
   },
   "outputs": [
    {
     "data": {
      "text/plain": [
       "array([[0.5, 0. , 0. ],\n",
       "       [0. , 0.5, 0. ],\n",
       "       [0. , 0. , 0.5]])"
      ]
     },
     "metadata": {},
     "output_type": "display_data"
    },
    {
     "data": {
      "text/plain": [
       "array([[2., 0., 0.],\n",
       "       [0., 2., 0.],\n",
       "       [0., 0., 2.]])"
      ]
     },
     "execution_count": 30,
     "metadata": {},
     "output_type": "execute_result"
    }
   ],
   "source": [
    "my_matrix = np.diag([0.5, 0.5 , 0.5])\n",
    "display(my_matrix)\n",
    "my_matrix_inv = np.linalg.inv(my_matrix)\n",
    "my_matrix_inv"
   ]
  },
  {
   "cell_type": "markdown",
   "metadata": {},
   "source": [
    "### How to solve a system of linear equations? <a class=\"anchor\" id=\"solve-sole\"></a> \n",
    "**Note:** For solving linear equation systems, the `numpy.linalg.solve()` function is faster than calculating the inverse of the coefficient matrix. \n",
    "\n",
    "$$\\begin{bmatrix}\n",
    "3 & 1 \\\\\n",
    "1 & 2 \n",
    "\\end{bmatrix}\n",
    "\\cdot\n",
    "\\begin{bmatrix}\n",
    "x_1 \\\\\n",
    "x_2 \n",
    "\\end{bmatrix}\n",
    "=\n",
    "\\begin{bmatrix}\n",
    "9 \\\\\n",
    "8 \n",
    "\\end{bmatrix}$$\n"
   ]
  },
  {
   "cell_type": "code",
   "execution_count": 31,
   "metadata": {},
   "outputs": [
    {
     "data": {
      "text/plain": [
       "array([2., 3.])"
      ]
     },
     "execution_count": 31,
     "metadata": {},
     "output_type": "execute_result"
    }
   ],
   "source": [
    "# https://docs.scipy.org/doc/numpy/reference/generated/numpy.linalg.solve.html\n",
    "# coefficient matrix\n",
    "a = np.array([[3,1], [1,2]])\n",
    "b = np.array([9,8])\n",
    "# compute the solution\n",
    "x = np.linalg.solve(a, b)\n",
    "x"
   ]
  },
  {
   "cell_type": "markdown",
   "metadata": {},
   "source": [
    "### How to compute the eigenvalues and eigenvectors of a matrix? <a class=\"anchor\" id=\"eigenvalues-array\"></a>"
   ]
  },
  {
   "cell_type": "code",
   "execution_count": 32,
   "metadata": {
    "scrolled": false
   },
   "outputs": [
    {
     "data": {
      "text/plain": [
       "array([2., 1., 3.])"
      ]
     },
     "metadata": {},
     "output_type": "display_data"
    },
    {
     "data": {
      "text/plain": [
       "array([[ 0.        ,  0.70710678,  0.        ],\n",
       "       [ 1.        , -0.70710678,  0.        ],\n",
       "       [ 0.        ,  0.        ,  1.        ]])"
      ]
     },
     "execution_count": 32,
     "metadata": {},
     "output_type": "execute_result"
    }
   ],
   "source": [
    "my_matrix = np.array([[1, 0, 0], \n",
    "                      [1, 2, 0], \n",
    "                      [0, 0, 3]])\n",
    "w, v = np.linalg.eig(my_matrix)\n",
    "display(w)\n",
    "v"
   ]
  },
  {
   "cell_type": "markdown",
   "metadata": {},
   "source": [
    "### How to compute the rank of a matrix? <a class=\"anchor\" id=\"rank-matrix\"></a>"
   ]
  },
  {
   "cell_type": "code",
   "execution_count": 33,
   "metadata": {
    "scrolled": false
   },
   "outputs": [
    {
     "data": {
      "text/plain": [
       "3"
      ]
     },
     "execution_count": 33,
     "metadata": {},
     "output_type": "execute_result"
    }
   ],
   "source": [
    "my_matrix = np.eye(3)\n",
    "rank = np.linalg.matrix_rank(my_matrix)\n",
    "rank"
   ]
  },
  {
   "cell_type": "markdown",
   "metadata": {},
   "source": [
    "### How to compute the matrix exponential? <a class=\"anchor\" id=\"matrix-exponential\"></a>\n",
    "**Note:** NumPy does not provide a function for that, but SciPy does."
   ]
  },
  {
   "cell_type": "code",
   "execution_count": 34,
   "metadata": {
    "scrolled": true
   },
   "outputs": [
    {
     "data": {
      "text/plain": [
       "array([[2.71828183, 0.        , 0.        ],\n",
       "       [0.        , 2.71828183, 0.        ],\n",
       "       [0.        , 0.        , 2.71828183]])"
      ]
     },
     "execution_count": 34,
     "metadata": {},
     "output_type": "execute_result"
    }
   ],
   "source": [
    "from scipy.linalg import expm\n",
    "A = np.eye(3)\n",
    "matrix_exponential = expm(A)\n",
    "matrix_exponential"
   ]
  },
  {
   "cell_type": "markdown",
   "metadata": {},
   "source": [
    "### How to differentiate numerically? <a class=\"anchor\" id=\"differentiate-array\"></a>\n",
    "#### using central differences"
   ]
  },
  {
   "cell_type": "code",
   "execution_count": 35,
   "metadata": {},
   "outputs": [
    {
     "data": {
      "image/png": "[encoded data removed]",
      "text/plain": [
       "<Figure size 432x288 with 1 Axes>"
      ]
     },
     "metadata": {},
     "output_type": "display_data"
    }
   ],
   "source": [
    "# import matplotlib for this specific example\n",
    "import matplotlib.pyplot as plt\n",
    "%matplotlib inline\n",
    "\n",
    "tt = np.linspace(0, 10, 20)\n",
    "x = np.sin(tt)\n",
    "dxdt = np.gradient(x, tt)\n",
    "\n",
    "# the second argument tt is optional. if not provided, then numpy will assume a distance of 1 between every element\n",
    "# in x\n",
    "\n",
    "# plot the result\n",
    "fig = plt.figure()\n",
    "ax = fig.add_subplot(111)\n",
    "ax.plot(tt, x, label=\"x\")\n",
    "ax.plot(tt, dxdt, label=\"dxdt\")\n",
    "ax.legend()\n",
    "plt.show()"
   ]
  },
  {
   "cell_type": "markdown",
   "metadata": {},
   "source": [
    "#### using forward differences"
   ]
  },
  {
   "cell_type": "code",
   "execution_count": 36,
   "metadata": {
    "scrolled": true
   },
   "outputs": [
    {
     "data": {
      "image/png": "[encoded data removed]",
      "text/plain": [
       "<Figure size 432x288 with 1 Axes>"
      ]
     },
     "metadata": {},
     "output_type": "display_data"
    }
   ],
   "source": [
    "# import matplotlib for this specific example\n",
    "import matplotlib.pyplot as plt\n",
    "%matplotlib inline\n",
    "\n",
    "tt, step_size = np.linspace(0, 10, 20, retstep=True)\n",
    "x = np.sin(tt)\n",
    "# np diff assumes that the distance between every element in x is 1. so we have to take care of the step distance\n",
    "dxdt = np.diff(x) / step_size\n",
    "\n",
    "# the second argument tt is optional. if not provided, then numpy will assume a distance of 1 between every element\n",
    "# in x\n",
    "\n",
    "# plot the result\n",
    "fig = plt.figure()\n",
    "ax = fig.add_subplot(111)\n",
    "ax.plot(tt, x, label=\"x\")\n",
    "# diff does only return n-1 elements, so we have to slice tt accordingly\n",
    "ax.plot(tt[:-1], dxdt, label=\"dxdt\")\n",
    "ax.legend()\n",
    "plt.show()"
   ]
  },
  {
   "cell_type": "markdown",
   "metadata": {},
   "source": [
    "### How to integrate numerically? <a class=\"anchor\" id=\"integrate-array\"></a>\n",
    "**Note:** For numerical integration, the package SciPy contains more sophisticated functions than NumPy. If differential equations are supposed to be integrated, the subpackage `scipy.integrate` is definitely a better choice than NumPy. <br>\n",
    "#### using the composite trapezoidal rule"
   ]
  },
  {
   "cell_type": "code",
   "execution_count": 37,
   "metadata": {},
   "outputs": [
    {
     "data": {
      "text/plain": [
       "1.9954413183201947"
      ]
     },
     "execution_count": 37,
     "metadata": {},
     "output_type": "execute_result"
    }
   ],
   "source": [
    "tt = np.linspace(0, np.pi, 20)\n",
    "x = np.sin(tt)\n",
    "integral_result = np.trapz(x, tt)\n",
    "# the second argument tt is optional. if not provided, then np.trapz() will assume a distance of 1 between every element\n",
    "# in x\n",
    "\n",
    "# the analytical solution is 2\n",
    "integral_result"
   ]
  },
  {
   "cell_type": "markdown",
   "metadata": {},
   "source": [
    "### How to find zeros of a function numerically? <a class=\"anchor\" id=\"find-zeros\"></a>\n",
    "**Note:** For finding zeros numerically, the package `scipy.optimize` is better suited than NumPy. For example, `scipy.optimize.fsolve` is frequently used for this task.\n",
    "#### finding the roots of a polynom"
   ]
  },
  {
   "cell_type": "code",
   "execution_count": 38,
   "metadata": {},
   "outputs": [
    {
     "data": {
      "text/plain": [
       "array([-0.90617985, -0.53846931,  0.90617985,  0.53846931,  0.        ])"
      ]
     },
     "execution_count": 38,
     "metadata": {},
     "output_type": "execute_result"
    }
   ],
   "source": [
    "# 1/8 * (63*x^5 -70 * x^3 + 15 * x) = 0\n",
    "# legendre polynom for n = 5\n",
    "\n",
    "coeff = 1/8 * np.array([63, 0, -70, 0, 15, 0])\n",
    "roots = np.roots(coeff)\n",
    "roots"
   ]
  },
  {
   "cell_type": "markdown",
   "metadata": {},
   "source": [
    "### How to calculate the controllability matrix? <a class=\"anchor\" id=\"calc-controllability\"></a>\n",
    "\n",
    "The controllability matrix reads\n",
    "\n",
    "\\begin{pmatrix}\n",
    "b, A\\cdot b, A^2 b, A^3 b\n",
    "\\end{pmatrix}"
   ]
  },
  {
   "cell_type": "code",
   "execution_count": 39,
   "metadata": {},
   "outputs": [
    {
     "data": {
      "text/plain": [
       "array([[ 0, -1, -1, -1],\n",
       "       [-1, -1, -1, -1],\n",
       "       [-1, -1, -1, -1],\n",
       "       [ 2,  2,  2,  2]])"
      ]
     },
     "execution_count": 39,
     "metadata": {},
     "output_type": "execute_result"
    }
   ],
   "source": [
    "# exercise 2.2.a of the lesson \"Regelungstechnik 2\"\n",
    "A = np.array([[0, 1, 0, 0], \n",
    "              [0, -3, 0, -2], \n",
    "              [0, 3, -2, 0], \n",
    "              [0, 4, 0, 3]])\n",
    "b = np.array([[0],\n",
    "              [-1],\n",
    "              [-1],\n",
    "              [2]])\n",
    "\n",
    "controllability_matrix = np.hstack((b, A @ b, A @ A @ b, A @ A @ A @ b))\n",
    "controllability_matrix"
   ]
  },
  {
   "cell_type": "code",
   "execution_count": 40,
   "metadata": {
    "scrolled": false
   },
   "outputs": [
    {
     "data": {
      "text/plain": [
       "2"
      ]
     },
     "execution_count": 40,
     "metadata": {},
     "output_type": "execute_result"
    }
   ],
   "source": [
    "np.linalg.matrix_rank(controllability_matrix)"
   ]
  },
  {
   "cell_type": "markdown",
   "metadata": {},
   "source": [
    "### How to compute the observability matrix? <a class=\"anchor\" id=\"observability-matrix\"></a>\n",
    "\n",
    "We want to calculate the observability matrix\n",
    "\n",
    "\\begin{pmatrix}\n",
    "c\\\\\n",
    "c\\cdot A\\\\\n",
    "c\\cdot A^2 \\\\\n",
    "c \\cdot A^3\n",
    "\\end{pmatrix}"
   ]
  },
  {
   "cell_type": "code",
   "execution_count": 41,
   "metadata": {},
   "outputs": [
    {
     "data": {
      "text/plain": [
       "array([[  1,   0,   2,   0],\n",
       "       [  0,   7,  -4,   0],\n",
       "       [  0, -33,   8, -14],\n",
       "       [  0,  67, -16,  24]])"
      ]
     },
     "execution_count": 41,
     "metadata": {},
     "output_type": "execute_result"
    }
   ],
   "source": [
    "# exercise 2.2 of the lesson \"Regelungstechnik 2\"\n",
    "A = np.array([[0, 1, 0, 0], \n",
    "              [0, -3, 0, -2], \n",
    "              [0, 3, -2, 0], \n",
    "              [0, 4, 0, 3]])\n",
    "c = np.array([[1, 0, 2, 0]])\n",
    "observability_matrix = np.vstack((c, c @ A, c @ A @ A, c @ A @ A @ A))\n",
    "observability_matrix"
   ]
  },
  {
   "cell_type": "code",
   "execution_count": 42,
   "metadata": {
    "scrolled": false
   },
   "outputs": [
    {
     "data": {
      "text/plain": [
       "4"
      ]
     },
     "execution_count": 42,
     "metadata": {},
     "output_type": "execute_result"
    }
   ],
   "source": [
    "np.linalg.matrix_rank(observability_matrix)"
   ]
  },
  {
   "cell_type": "markdown",
   "metadata": {},
   "source": [
    "### How to discretize a continuous state space model numerically? <a class=\"anchor\" id=\"rank-matrix\"></a>\n",
    "In order to discretize a continuous state space model, we need to compute the following expressions.\n",
    "\n",
    "$$A^* = e^{A T_s},\\quad B^* = \\int_{0}^{T_s} e^{A \\tau} \\: \\mathrm{d}\\tau$$\n",
    "with the sampling step size $T_s$. <br>\n",
    "The matrices $C$ and $D$ keep the same."
   ]
  },
  {
   "cell_type": "code",
   "execution_count": 43,
   "metadata": {},
   "outputs": [
    {
     "data": {
      "text/plain": [
       "array([[ 0.15057437,  0.20963981],\n",
       "       [-0.83855926, -0.26870526]])"
      ]
     },
     "metadata": {},
     "output_type": "display_data"
    },
    {
     "data": {
      "text/plain": [
       "array([[0.21234562],\n",
       "       [0.20965426]])"
      ]
     },
     "execution_count": 43,
     "metadata": {},
     "output_type": "execute_result"
    }
   ],
   "source": [
    "# Exercise 7.1.d of the lesson \"Regelungstechnik 2\"\n",
    "from scipy.linalg import expm\n",
    "\n",
    "A = np.array([[0, 1],\n",
    "              [-4, -2]])\n",
    "b = np.array([[0], \n",
    "              [1]])\n",
    "\"\"\"from https://math.stackexchange.com/questions/658276/integral-of-matrix-exponential\"\"\"\n",
    "T = 1\n",
    "nbins = 100\n",
    "\n",
    "A_star = expm(A * T)\n",
    "display(A_star)\n",
    "\n",
    "f = lambda x: expm(A*x)\n",
    "xv = np.linspace(0, T, nbins)\n",
    "result = np.apply_along_axis(f, 0, xv.reshape(1, -1))\n",
    "B_star = np.trapz(result, xv) @ b\n",
    "\n",
    "B_star"
   ]
  },
  {
   "cell_type": "markdown",
   "metadata": {},
   "source": [
    "### How to save arrays to a binary file / How to load arrays from a binary file? <a class=\"anchor\" id=\"save-array\"></a>"
   ]
  },
  {
   "cell_type": "code",
   "execution_count": 44,
   "metadata": {
    "scrolled": true
   },
   "outputs": [
    {
     "data": {
      "text/plain": [
       "array([1, 2, 3])"
      ]
     },
     "execution_count": 44,
     "metadata": {},
     "output_type": "execute_result"
    }
   ],
   "source": [
    "arr = np.array([1, 2, 3])\n",
    "np.save(\"array.npy\", arr)\n",
    "arr2 = np.load(\"array.npy\")\n",
    "arr2"
   ]
  },
  {
   "cell_type": "markdown",
   "metadata": {},
   "source": [
    "### How to save arrays to a text file / How to load arrays from a text file? <a class=\"anchor\" id=\"savetxt-array\"></a>"
   ]
  },
  {
   "cell_type": "code",
   "execution_count": 45,
   "metadata": {
    "scrolled": true
   },
   "outputs": [
    {
     "data": {
      "text/plain": [
       "array([1., 2., 3.])"
      ]
     },
     "execution_count": 45,
     "metadata": {},
     "output_type": "execute_result"
    }
   ],
   "source": [
    "arr = np.array([1, 2, 3])\n",
    "np.savetxt(\"array.txt\", arr)\n",
    "arr2 = np.loadtxt(\"array.txt\")\n",
    "arr2"
   ]
  }
 ],
 "metadata": {
  "kernelspec": {
   "display_name": "Python 3",
   "language": "python",
   "name": "python3"
  },
  "language_info": {
   "codemirror_mode": {
    "name": "ipython",
    "version": 3
   },
   "file_extension": ".py",
   "mimetype": "text/x-python",
   "name": "python",
   "nbconvert_exporter": "python",
   "pygments_lexer": "ipython3",
   "version": "3.6.8"
  }
 },
 "nbformat": 4,
 "nbformat_minor": 2
}
